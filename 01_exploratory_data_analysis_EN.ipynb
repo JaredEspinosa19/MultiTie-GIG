{
 "cells": [
  {
   "cell_type": "markdown",
   "metadata": {},
   "source": [
    "# Exploratory Data Analysis (EDA)\n",
    "This notebook contains exploratory data analysis for the ML regression project.\n",
    "\n",
    "## Objectives:\n",
    "- Load and explore the dataset\n",
    "- Analyze variable distributions\n",
    "- Identify correlations\n",
    "- Detect outliers and missing values\n",
    "- Prepare data for modeling"
   ]
  },
  {
   "cell_type": "code",
   "execution_count": null,
   "metadata": {},
   "outputs": [],
   "source": [
    "import pandas as pd\n",
    "import numpy as np\n",
    "import matplotlib.pyplot as plt\n",
    "import seaborn as sns\n",
    "from scipy import stats\n",
    "import warnings\n",
    "warnings.filterwarnings('ignore')\n",
    "\n",
    "plt.style.use('seaborn-v0_8')\n",
    "sns.set_palette(\"husl\")\n",
    "plt.rcParams['figure.figsize'] = (12, 8)\n",
    "plt.rcParams['font.size'] = 12\n",
    "\n",
    "print(\"Libraries imported successfully\")"
   ]
  },
  {
   "cell_type": "markdown",
   "metadata": {},
   "source": [
    "## 1. Data Loading"
   ]
  },
  {
   "cell_type": "code",
   "execution_count": null,
   "metadata": {},
   "outputs": [],
   "source": "# Load the dataset\n# NOTE: Replace 'your_dataset.csv' with the actual path to your file\nfile_path = 'your_dataset.csv'\n\ntry:\n    df = pd.read_csv(file_path)\n    print(f\"Dataset loaded successfully: {df.shape[0]} rows and {df.shape[1]} columns\")\nexcept FileNotFoundError:\n    print(\"File not found. Please adjust the 'file_path' variable with the correct path.\")\n    # Create example dataset for demonstration with 10 features\n    np.random.seed(42)\n    n_samples = 1000\n    df = pd.DataFrame({\n        'feature_1': np.random.normal(50, 15, n_samples),\n        'feature_2': np.random.exponential(2, n_samples),\n        'feature_3': np.random.uniform(0, 100, n_samples),\n        'feature_4': np.random.gamma(2, 2, n_samples),\n        'feature_5': np.random.beta(2, 5, n_samples) * 100,\n        'feature_6': np.random.lognormal(1, 0.5, n_samples),\n        'feature_7': np.random.weibull(1.5, n_samples) * 50,\n        'feature_8': np.random.poisson(5, n_samples),\n        'feature_9': np.random.triangular(0, 50, 100, n_samples),\n        'feature_10': np.random.pareto(3, n_samples) * 10,\n        'target': np.random.normal(75, 20, n_samples)\n    })\n    # Add artificial correlation with multiple features\n    df['target'] = (0.25 * df['feature_1'] + 0.15 * df['feature_3'] + 0.1 * df['feature_4'] + \n                   0.08 * df['feature_6'] + 0.12 * df['feature_7'] + 0.05 * df['feature_9'] + \n                   np.random.normal(0, 10, n_samples))\n    print(f\"Example dataset created: {df.shape[0]} rows and {df.shape[1]} columns\")"
  },
  {
   "cell_type": "markdown",
   "metadata": {},
   "source": [
    "## 2. General Dataset Information"
   ]
  },
  {
   "cell_type": "code",
   "execution_count": null,
   "metadata": {},
   "outputs": [],
   "source": [
    "# Basic dataset information\n",
    "print(\"=== GENERAL INFORMATION ===\")\n",
    "print(f\"Dataset shape: {df.shape}\")\n",
    "print(f\"\\nData types:\")\n",
    "print(df.dtypes)\n",
    "print(f\"\\nMemory usage: {df.memory_usage(deep=True).sum() / 1024**2:.2f} MB\")"
   ]
  },
  {
   "cell_type": "code",
   "execution_count": null,
   "metadata": {},
   "outputs": [],
   "source": [
    "# First and last rows\n",
    "print(\"=== FIRST 5 ROWS ===\")\n",
    "display(df.head())\n",
    "print(\"\\n=== LAST 5 ROWS ===\")\n",
    "display(df.tail())"
   ]
  },
  {
   "cell_type": "code",
   "execution_count": null,
   "metadata": {},
   "outputs": [],
   "source": [
    "# Descriptive statistics\n",
    "print(\"=== DESCRIPTIVE STATISTICS ===\")\n",
    "display(df.describe())"
   ]
  },
  {
   "cell_type": "markdown",
   "metadata": {},
   "source": [
    "## 3. Missing Values Analysis"
   ]
  },
  {
   "cell_type": "code",
   "execution_count": null,
   "metadata": {},
   "outputs": [],
   "source": [
    "# Missing values analysis\n",
    "missing_data = df.isnull().sum()\n",
    "missing_percent = (missing_data / len(df)) * 100\n",
    "missing_df = pd.DataFrame({\n",
    "    'Variable': df.columns,\n",
    "    'Missing Values': missing_data,\n",
    "    'Percentage': missing_percent\n",
    "})\n",
    "missing_df = missing_df[missing_df['Missing Values'] > 0].sort_values('Percentage', ascending=False)\n",
    "\n",
    "if len(missing_df) > 0:\n",
    "    print(\"=== MISSING VALUES ===\")\n",
    "    display(missing_df)\n",
    "    \n",
    "    # Visualization of missing values\n",
    "    plt.figure(figsize=(10, 6))\n",
    "    sns.heatmap(df.isnull(), cbar=True, xticklabels=True, yticklabels=False, cmap='viridis')\n",
    "    plt.title('Missing Values Pattern')\n",
    "    plt.xticks(rotation=45)\n",
    "    plt.tight_layout()\n",
    "    plt.show()\nelse:\n",
    "    print(\"✅ No missing values found in the dataset\")"
   ]
  },
  {
   "cell_type": "markdown",
   "metadata": {},
   "source": [
    "## 4. Distribution Analysis"
   ]
  },
  {
   "cell_type": "code",
   "execution_count": null,
   "metadata": {},
   "outputs": [],
   "source": [
    "# Distributions of numeric variables\n",
    "numeric_cols = df.select_dtypes(include=[np.number]).columns\n",
    "n_cols = len(numeric_cols)\n",
    "n_rows = (n_cols + 2) // 3\n",
    "\n",
    "fig, axes = plt.subplots(n_rows, 3, figsize=(18, 6*n_rows))\n",
    "axes = axes.flatten() if n_rows > 1 else [axes] if n_cols == 1 else axes\n",
    "\n",
    "for i, col in enumerate(numeric_cols):\n",
    "    ax = axes[i]\n",
    "    \n",
    "    # Histogram with density curve\n",
    "    df[col].hist(bins=30, density=True, alpha=0.7, ax=ax, color='skyblue')\n",
    "    \n",
    "    # Density curve\n",
    "    df[col].plot.density(ax=ax, color='red', linewidth=2)\n",
    "    \n",
    "    ax.set_title(f'Distribution of {col}')\n",
    "    ax.set_xlabel(col)\n",
    "    ax.set_ylabel('Density')\n",
    "    ax.grid(True, alpha=0.3)\n",
    "\n",
    "# Hide empty axes\n",
    "for i in range(n_cols, len(axes)):\n",
    "    axes[i].set_visible(False)\n",
    "\n",
    "plt.tight_layout()\n",
    "plt.show()"
   ]
  },
  {
   "cell_type": "code",
   "execution_count": null,
   "metadata": {},
   "outputs": [],
   "source": [
    "# Box plots to detect outliers\n",
    "fig, axes = plt.subplots(n_rows, 3, figsize=(18, 6*n_rows))\n",
    "axes = axes.flatten() if n_rows > 1 else [axes] if n_cols == 1 else axes\n",
    "\n",
    "for i, col in enumerate(numeric_cols):\n",
    "    ax = axes[i]\n",
    "    df.boxplot(column=col, ax=ax)\n",
    "    ax.set_title(f'Box Plot of {col}')\n",
    "    ax.set_ylabel(col)\n",
    "\n",
    "# Hide empty axes\n",
    "for i in range(n_cols, len(axes)):\n",
    "    axes[i].set_visible(False)\n",
    "\n",
    "plt.tight_layout()\n",
    "plt.show()"
   ]
  },
  {
   "cell_type": "markdown",
   "metadata": {},
   "source": [
    "## 5. Correlation Analysis"
   ]
  },
  {
   "cell_type": "code",
   "execution_count": null,
   "metadata": {},
   "outputs": [],
   "source": [
    "# Correlation matrix\n",
    "correlation_matrix = df[numeric_cols].corr()\n",
    "\n",
    "# Correlation heatmap\n",
    "plt.figure(figsize=(12, 10))\n",
    "mask = np.triu(np.ones_like(correlation_matrix, dtype=bool))\n",
    "sns.heatmap(correlation_matrix, \n",
    "            mask=mask,\n",
    "            annot=True, \n",
    "            cmap='RdBu_r', \n",
    "            center=0,\n",
    "            square=True,\n",
    "            fmt='.2f',\n",
    "            cbar_kws={'shrink': 0.8})\n",
    "plt.title('Correlation Matrix', fontsize=16)\n",
    "plt.tight_layout()\n",
    "plt.show()"
   ]
  },
  {
   "cell_type": "code",
   "execution_count": null,
   "metadata": {},
   "outputs": [],
   "source": [
    "# Correlation with target variable\n",
    "if 'target' in df.columns:\n",
    "    target_correlations = df[numeric_cols].corrwith(df['target']).sort_values(key=abs, ascending=False)\n",
    "    \n",
    "    plt.figure(figsize=(10, 6))\n",
    "    colors = ['red' if x < 0 else 'green' for x in target_correlations.values]\n",
    "    target_correlations.plot(kind='barh', color=colors)\n",
    "    plt.title('Variable Correlations with Target')\n",
    "    plt.xlabel('Correlation')\n",
    "    plt.grid(True, alpha=0.3)\n",
    "    plt.tight_layout()\n",
    "    plt.show()\n",
    "    \n",
    "    print(\"=== CORRELATIONS WITH TARGET ===\")\n",
    "    for var, corr in target_correlations.items():\n",
    "        if var != 'target':\n",
    "            print(f\"{var}: {corr:.3f}\")"
   ]
  },
  {
   "cell_type": "markdown",
   "metadata": {},
   "source": [
    "## 6. Outlier Detection"
   ]
  },
  {
   "cell_type": "code",
   "execution_count": null,
   "metadata": {},
   "outputs": [],
   "source": [
    "# Outlier detection using IQR method\n",
    "def detect_outliers_iqr(data, column):\n",
    "    Q1 = data[column].quantile(0.25)\n",
    "    Q3 = data[column].quantile(0.75)\n",
    "    IQR = Q3 - Q1\n",
    "    lower_bound = Q1 - 1.5 * IQR\n",
    "    upper_bound = Q3 + 1.5 * IQR\n",
    "    outliers = data[(data[column] < lower_bound) | (data[column] > upper_bound)]\n",
    "    return outliers, lower_bound, upper_bound\n",
    "\n",
    "outlier_summary = []\n",
    "for col in numeric_cols:\n",
    "    outliers, lower, upper = detect_outliers_iqr(df, col)\n",
    "    outlier_summary.append({\n",
    "        'Variable': col,\n",
    "        'Outliers': len(outliers),\n",
    "        'Percentage': (len(outliers) / len(df)) * 100,\n",
    "        'Lower Bound': lower,\n",
    "        'Upper Bound': upper\n",
    "    })\n",
    "\n",
    "outlier_df = pd.DataFrame(outlier_summary)\n",
    "print(\"=== OUTLIERS SUMMARY (IQR Method) ===\")\n",
    "display(outlier_df)"
   ]
  },
  {
   "cell_type": "markdown",
   "metadata": {},
   "source": [
    "## 7. Normality Analysis"
   ]
  },
  {
   "cell_type": "code",
   "execution_count": null,
   "metadata": {},
   "outputs": [],
   "source": [
    "# Normality tests: Shapiro-Wilk (for small samples) or Anderson-Darling\n",
    "normality_results = []\n",
    "\n",
    "for col in numeric_cols:\n",
    "    if len(df[col].dropna()) <= 5000:  # Shapiro-Wilk for small samples\n",
    "        stat, p_value = stats.shapiro(df[col].dropna())\n",
    "        test_name = 'Shapiro-Wilk'\n",
    "    else:  # Anderson-Darling for large samples\n",
    "        result = stats.anderson(df[col].dropna())\n",
    "        stat = result.statistic\n",
    "        p_value = 0.05 if stat > result.critical_values[2] else 0.1  # Approximation\n",
    "        test_name = 'Anderson-Darling'\n",
    "    \n",
    "    is_normal = p_value > 0.05\n",
    "    normality_results.append({\n",
    "        'Variable': col,\n",
    "        'Test': test_name,\n",
    "        'Statistic': stat,\n",
    "        'p-value': p_value,\n",
    "        'Normal': 'Yes' if is_normal else 'No'\n",
    "    })\n",
    "\n",
    "normality_df = pd.DataFrame(normality_results)\n",
    "print(\"=== NORMALITY TESTS ===\")\n",
    "display(normality_df)"
   ]
  },
  {
   "cell_type": "markdown",
   "metadata": {},
   "source": [
    "## 8. Scatter Plots with Target"
   ]
  },
  {
   "cell_type": "code",
   "execution_count": null,
   "metadata": {},
   "outputs": [],
   "source": [
    "# Scatter plots of variables vs target\n",
    "if 'target' in df.columns:\n",
    "    feature_cols = [col for col in numeric_cols if col != 'target']\n",
    "    n_features = len(feature_cols)\n",
    "    n_rows = (n_features + 2) // 3\n",
    "    \n",
    "    fig, axes = plt.subplots(n_rows, 3, figsize=(18, 6*n_rows))\n",
    "    axes = axes.flatten() if n_rows > 1 else [axes] if n_features == 1 else axes\n",
    "    \n",
    "    for i, col in enumerate(feature_cols):\n",
    "        ax = axes[i]\n",
    "        ax.scatter(df[col], df['target'], alpha=0.6, s=20)\n",
    "        \n",
    "        # Trend line\n",
    "        z = np.polyfit(df[col], df['target'], 1)\n",
    "        p = np.poly1d(z)\n",
    "        ax.plot(df[col], p(df[col]), \"r--\", alpha=0.8, linewidth=2)\n",
    "        \n",
    "        ax.set_xlabel(col)\n",
    "        ax.set_ylabel('Target')\n",
    "        ax.set_title(f'{col} vs Target')\n",
    "        ax.grid(True, alpha=0.3)\n",
    "    \n",
    "    # Hide empty axes\n",
    "    for i in range(n_features, len(axes)):\n",
    "        axes[i].set_visible(False)\n",
    "    \n",
    "    plt.tight_layout()\n",
    "    plt.show()"
   ]
  },
  {
   "cell_type": "markdown",
   "metadata": {},
   "source": [
    "## 9. Preliminary Feature Importance Analysis"
   ]
  },
  {
   "cell_type": "code",
   "execution_count": null,
   "metadata": {},
   "outputs": [],
   "source": [
    "# Feature importance using absolute correlation and mutual information\n",
    "from sklearn.feature_selection import mutual_info_regression\n",
    "from sklearn.preprocessing import StandardScaler\n",
    "\n",
    "if 'target' in df.columns:\n",
    "    feature_cols = [col for col in numeric_cols if col != 'target']\n",
    "    X = df[feature_cols]\n",
    "    y = df['target']\n",
    "    \n",
    "    # Remove rows with missing values\n",
    "    mask = ~(X.isnull().any(axis=1) | y.isnull())\n",
    "    X_clean = X[mask]\n",
    "    y_clean = y[mask]\n",
    "    \n",
    "    # Normalize for mutual information\n",
    "    scaler = StandardScaler()\n",
    "    X_scaled = scaler.fit_transform(X_clean)\n",
    "    \n",
    "    # Calculate mutual information\n",
    "    mi_scores = mutual_info_regression(X_scaled, y_clean)\n",
    "    \n",
    "    # Create DataFrame with results\n",
    "    importance_df = pd.DataFrame({\n",
    "        'Variable': feature_cols,\n",
    "        'Abs_Correlation': [abs(df[col].corr(df['target'])) for col in feature_cols],\n",
    "        'Mutual_Information': mi_scores\n",
    "    })\n",
    "    \n",
    "    # Normalize mutual information for comparison\n",
    "    importance_df['MI_Normalized'] = importance_df['Mutual_Information'] / importance_df['Mutual_Information'].max()\n",
    "    \n",
    "    importance_df = importance_df.sort_values('MI_Normalized', ascending=False)\n",
    "    \n",
    "    print(\"=== PRELIMINARY FEATURE IMPORTANCE ===\")\n",
    "    display(importance_df)\n",
    "    \n",
    "    # Visualization\n",
    "    fig, (ax1, ax2) = plt.subplots(1, 2, figsize=(15, 6))\n",
    "    \n",
    "    # Absolute correlation\n",
    "    importance_df.set_index('Variable')['Abs_Correlation'].plot(kind='barh', ax=ax1, color='lightblue')\n",
    "    ax1.set_title('Importance by Absolute Correlation')\n",
    "    ax1.set_xlabel('Absolute Correlation')\n",
    "    \n",
    "    # Mutual Information\n",
    "    importance_df.set_index('Variable')['MI_Normalized'].plot(kind='barh', ax=ax2, color='lightgreen')\n",
    "    ax2.set_title('Importance by Mutual Information')\n",
    "    ax2.set_xlabel('Normalized MI')\n",
    "    \n",
    "    plt.tight_layout()\n",
    "    plt.show()"
   ]
  },
  {
   "cell_type": "markdown",
   "metadata": {},
   "source": [
    "## 10. Summary and Conclusions"
   ]
  },
  {
   "cell_type": "code",
   "execution_count": null,
   "metadata": {},
   "outputs": [],
   "source": [
    "print(\"=== EXPLORATORY DATA ANALYSIS SUMMARY ===\")\n",
    "print(f\"\\n📊 GENERAL INFORMATION:\")\n",
    "print(f\"   • Dataset: {df.shape[0]} rows x {df.shape[1]} columns\")\n",
    "print(f\"   • Numeric variables: {len(numeric_cols)}\")\n",
    "print(f\"   • Memory usage: {df.memory_usage(deep=True).sum() / 1024**2:.2f} MB\")\n",
    "\n",
    "if len(missing_df) > 0:\n",
    "    print(f\"\\n❌ MISSING VALUES:\")\n",
    "    for _, row in missing_df.iterrows():\n",
    "        print(f\"   • {row['Variable']}: {row['Missing Values']} ({row['Percentage']:.1f}%)\")\nelse:\n",
    "    print(f\"\\n✅ MISSING VALUES: None\")\n",
    "\n",
    "print(f\"\\n🎯 DETECTED OUTLIERS:\")\n",
    "for _, row in outlier_df.iterrows():\n",
    "    if row['Outliers'] > 0:\n",
    "        print(f\"   • {row['Variable']}: {row['Outliers']} ({row['Percentage']:.1f}%)\")\n",
    "\n",
    "if 'target' in df.columns:\n",
    "    print(f\"\\n🔗 STRONGEST CORRELATIONS WITH TARGET:\")\n",
    "    top_corrs = target_correlations.drop('target').head(3)\n",
    "    for var, corr in top_corrs.items():\n",
    "        print(f\"   • {var}: {corr:.3f}\")\n",
    "\n",
    "print(f\"\\n📈 DISTRIBUTIONS:\")\n",
    "normal_vars = normality_df[normality_df['Normal'] == 'Yes']['Variable'].tolist()\n",
    "if normal_vars:\n",
    "    print(f\"   • Variables with normal distribution: {', '.join(normal_vars)}\")\nelse:\n",
    "    print(f\"   • No variables follow normal distribution\")\n",
    "\n",
    "print(f\"\\n🚀 RECOMMENDATIONS FOR MODELING:\")\n",
    "print(f\"   • Consider transformations for non-normal variables\")\n",
    "print(f\"   • Evaluate outlier treatment\")\n",
    "print(f\"   • Use feature scaling for scale-sensitive algorithms\")\n",
    "print(f\"   • Consider feature engineering based on correlations\")\n",
    "if len(missing_df) > 0:\n",
    "    print(f\"   • Implement imputation strategy for missing values\")"
   ]
  }
 ],
 "metadata": {
  "kernelspec": {
   "display_name": "Python 3",
   "language": "python",
   "name": "python3"
  },
  "language_info": {
   "codemirror_mode": {
    "name": "ipython",
    "version": 3
   },
   "file_extension": ".py",
   "mimetype": "text/x-python",
   "name": "python",
   "nbconvert_exporter": "python",
   "pygments_lexer": "ipython3",
   "version": "3.8.5"
  }
 },
 "nbformat": 4,
 "nbformat_minor": 4
}